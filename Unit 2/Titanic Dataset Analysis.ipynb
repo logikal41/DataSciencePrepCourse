{
 "cells": [
  {
   "cell_type": "code",
   "execution_count": 327,
   "metadata": {},
   "outputs": [],
   "source": [
    "# Import all necessary modules for analyses\n",
    "import numpy as np\n",
    "import pandas as pd\n",
    "import matplotlib.pyplot as plt\n",
    "import re # regular expression for extracting letters from string\n",
    "%matplotlib inline"
   ]
  },
  {
   "cell_type": "code",
   "execution_count": 328,
   "metadata": {},
   "outputs": [],
   "source": [
    "# Read in the csv file which is located in the same directory\n",
    "data = pd.read_csv('titanic.csv')"
   ]
  },
  {
   "cell_type": "code",
   "execution_count": 329,
   "metadata": {},
   "outputs": [
    {
     "name": "stdout",
     "output_type": "stream",
     "text": [
      "<class 'pandas.core.frame.DataFrame'>\n",
      "RangeIndex: 891 entries, 0 to 890\n",
      "Data columns (total 12 columns):\n",
      "PassengerId    891 non-null int64\n",
      "Survived       891 non-null int64\n",
      "Pclass         891 non-null int64\n",
      "Name           891 non-null object\n",
      "Sex            891 non-null object\n",
      "Age            714 non-null float64\n",
      "SibSp          891 non-null int64\n",
      "Parch          891 non-null int64\n",
      "Ticket         891 non-null object\n",
      "Fare           891 non-null float64\n",
      "Cabin          204 non-null object\n",
      "Embarked       889 non-null object\n",
      "dtypes: float64(2), int64(5), object(5)\n",
      "memory usage: 83.6+ KB\n"
     ]
    },
    {
     "data": {
      "text/html": [
       "<div>\n",
       "<style>\n",
       "    .dataframe thead tr:only-child th {\n",
       "        text-align: right;\n",
       "    }\n",
       "\n",
       "    .dataframe thead th {\n",
       "        text-align: left;\n",
       "    }\n",
       "\n",
       "    .dataframe tbody tr th {\n",
       "        vertical-align: top;\n",
       "    }\n",
       "</style>\n",
       "<table border=\"1\" class=\"dataframe\">\n",
       "  <thead>\n",
       "    <tr style=\"text-align: right;\">\n",
       "      <th></th>\n",
       "      <th>PassengerId</th>\n",
       "      <th>Survived</th>\n",
       "      <th>Pclass</th>\n",
       "      <th>Name</th>\n",
       "      <th>Sex</th>\n",
       "      <th>Age</th>\n",
       "      <th>SibSp</th>\n",
       "      <th>Parch</th>\n",
       "      <th>Ticket</th>\n",
       "      <th>Fare</th>\n",
       "      <th>Cabin</th>\n",
       "      <th>Embarked</th>\n",
       "    </tr>\n",
       "  </thead>\n",
       "  <tbody>\n",
       "    <tr>\n",
       "      <th>0</th>\n",
       "      <td>1</td>\n",
       "      <td>0</td>\n",
       "      <td>3</td>\n",
       "      <td>Braund, Mr. Owen Harris</td>\n",
       "      <td>male</td>\n",
       "      <td>22.0</td>\n",
       "      <td>1</td>\n",
       "      <td>0</td>\n",
       "      <td>A/5 21171</td>\n",
       "      <td>7.2500</td>\n",
       "      <td>NaN</td>\n",
       "      <td>S</td>\n",
       "    </tr>\n",
       "    <tr>\n",
       "      <th>1</th>\n",
       "      <td>2</td>\n",
       "      <td>1</td>\n",
       "      <td>1</td>\n",
       "      <td>Cumings, Mrs. John Bradley (Florence Briggs Th...</td>\n",
       "      <td>female</td>\n",
       "      <td>38.0</td>\n",
       "      <td>1</td>\n",
       "      <td>0</td>\n",
       "      <td>PC 17599</td>\n",
       "      <td>71.2833</td>\n",
       "      <td>C85</td>\n",
       "      <td>C</td>\n",
       "    </tr>\n",
       "    <tr>\n",
       "      <th>2</th>\n",
       "      <td>3</td>\n",
       "      <td>1</td>\n",
       "      <td>3</td>\n",
       "      <td>Heikkinen, Miss. Laina</td>\n",
       "      <td>female</td>\n",
       "      <td>26.0</td>\n",
       "      <td>0</td>\n",
       "      <td>0</td>\n",
       "      <td>STON/O2. 3101282</td>\n",
       "      <td>7.9250</td>\n",
       "      <td>NaN</td>\n",
       "      <td>S</td>\n",
       "    </tr>\n",
       "    <tr>\n",
       "      <th>3</th>\n",
       "      <td>4</td>\n",
       "      <td>1</td>\n",
       "      <td>1</td>\n",
       "      <td>Futrelle, Mrs. Jacques Heath (Lily May Peel)</td>\n",
       "      <td>female</td>\n",
       "      <td>35.0</td>\n",
       "      <td>1</td>\n",
       "      <td>0</td>\n",
       "      <td>113803</td>\n",
       "      <td>53.1000</td>\n",
       "      <td>C123</td>\n",
       "      <td>S</td>\n",
       "    </tr>\n",
       "    <tr>\n",
       "      <th>4</th>\n",
       "      <td>5</td>\n",
       "      <td>0</td>\n",
       "      <td>3</td>\n",
       "      <td>Allen, Mr. William Henry</td>\n",
       "      <td>male</td>\n",
       "      <td>35.0</td>\n",
       "      <td>0</td>\n",
       "      <td>0</td>\n",
       "      <td>373450</td>\n",
       "      <td>8.0500</td>\n",
       "      <td>NaN</td>\n",
       "      <td>S</td>\n",
       "    </tr>\n",
       "  </tbody>\n",
       "</table>\n",
       "</div>"
      ],
      "text/plain": [
       "   PassengerId  Survived  Pclass  \\\n",
       "0            1         0       3   \n",
       "1            2         1       1   \n",
       "2            3         1       3   \n",
       "3            4         1       1   \n",
       "4            5         0       3   \n",
       "\n",
       "                                                Name     Sex   Age  SibSp  \\\n",
       "0                            Braund, Mr. Owen Harris    male  22.0      1   \n",
       "1  Cumings, Mrs. John Bradley (Florence Briggs Th...  female  38.0      1   \n",
       "2                             Heikkinen, Miss. Laina  female  26.0      0   \n",
       "3       Futrelle, Mrs. Jacques Heath (Lily May Peel)  female  35.0      1   \n",
       "4                           Allen, Mr. William Henry    male  35.0      0   \n",
       "\n",
       "   Parch            Ticket     Fare Cabin Embarked  \n",
       "0      0         A/5 21171   7.2500   NaN        S  \n",
       "1      0          PC 17599  71.2833   C85        C  \n",
       "2      0  STON/O2. 3101282   7.9250   NaN        S  \n",
       "3      0            113803  53.1000  C123        S  \n",
       "4      0            373450   8.0500   NaN        S  "
      ]
     },
     "execution_count": 329,
     "metadata": {},
     "output_type": "execute_result"
    }
   ],
   "source": [
    "# Preview the data and get an idea of how it is organized in the csv file\n",
    "data.info()\n",
    "data.head()"
   ]
  },
  {
   "cell_type": "markdown",
   "metadata": {},
   "source": [
    "# Questions to be answered/analyzed:"
   ]
  },
  {
   "cell_type": "markdown",
   "metadata": {},
   "source": [
    "1) Male vs. Female:\n",
    "     - Does sex make a difference on survival rates?\n",
    "     - Plot survival percentages of both male and female passangers.\n",
    "     \n",
    "2) Social status of passenger:\n",
    "    - Does the passenger class play a factor with survival rates?\n",
    "     \n",
    "3) Age groups:\n",
    "    - Does age play a factor with survival rates?\n",
    "    - Seperate passengers by 10 year increments and plot survival rates.\n",
    "\n",
    "4) Cabin:\n",
    "    - How are the cabins located in the ship?\n",
    "    - Does it make a difference which part of the boat your cabin was in?\n",
    "    - Cabin versus survival rates"
   ]
  },
  {
   "cell_type": "markdown",
   "metadata": {},
   "source": [
    "## Question 1: Male vs Female Survival Rates"
   ]
  },
  {
   "cell_type": "code",
   "execution_count": 330,
   "metadata": {},
   "outputs": [
    {
     "data": {
      "text/plain": [
       "male      577\n",
       "female    314\n",
       "Name: Sex, dtype: int64"
      ]
     },
     "execution_count": 330,
     "metadata": {},
     "output_type": "execute_result"
    }
   ],
   "source": [
    "# Evaluate total male and female population\n",
    "sex_counts = data.Sex.value_counts()\n",
    "sex_counts"
   ]
  },
  {
   "cell_type": "code",
   "execution_count": 331,
   "metadata": {},
   "outputs": [
    {
     "name": "stdout",
     "output_type": "stream",
     "text": [
      "Male Survivors: 109\n",
      "Female Survivors: 233\n"
     ]
    }
   ],
   "source": [
    "# Define function to parse through data frame and count survivors\n",
    "def countSurvivors(sex):\n",
    "    count = 0\n",
    "    for i in range(len(data.Sex)):\n",
    "        if data.Sex[i] == sex:\n",
    "            if data.Survived[i] == 1:\n",
    "                count += 1\n",
    "    return count\n",
    "\n",
    "male_survivors = countSurvivors(\"male\")\n",
    "print(\"Male Survivors: \" + str(male_survivors))\n",
    "female_survivors = countSurvivors(\"female\")\n",
    "print(\"Female Survivors: \" + str(female_survivors))"
   ]
  },
  {
   "cell_type": "code",
   "execution_count": 332,
   "metadata": {},
   "outputs": [
    {
     "name": "stdout",
     "output_type": "stream",
     "text": [
      "18.890814558058924\n",
      "74.20382165605095\n"
     ]
    }
   ],
   "source": [
    "# Percentage of survivors by sex\n",
    "male_survivor_percentage = 109/577*100\n",
    "print(male_survivor_percentage)\n",
    "female_survivor_percentage = 233/314*100\n",
    "print(female_survivor_percentage)"
   ]
  },
  {
   "cell_type": "code",
   "execution_count": 333,
   "metadata": {},
   "outputs": [
    {
     "data": {
      "text/html": [
       "<div>\n",
       "<style>\n",
       "    .dataframe thead tr:only-child th {\n",
       "        text-align: right;\n",
       "    }\n",
       "\n",
       "    .dataframe thead th {\n",
       "        text-align: left;\n",
       "    }\n",
       "\n",
       "    .dataframe tbody tr th {\n",
       "        vertical-align: top;\n",
       "    }\n",
       "</style>\n",
       "<table border=\"1\" class=\"dataframe\">\n",
       "  <thead>\n",
       "    <tr style=\"text-align: right;\">\n",
       "      <th></th>\n",
       "      <th>PassengerId</th>\n",
       "      <th>Survived</th>\n",
       "      <th>Pclass</th>\n",
       "      <th>Name</th>\n",
       "      <th>Sex</th>\n",
       "      <th>Age</th>\n",
       "      <th>SibSp</th>\n",
       "      <th>Parch</th>\n",
       "      <th>Ticket</th>\n",
       "      <th>Fare</th>\n",
       "      <th>Cabin</th>\n",
       "      <th>Embarked</th>\n",
       "    </tr>\n",
       "  </thead>\n",
       "  <tbody>\n",
       "    <tr>\n",
       "      <th>0</th>\n",
       "      <td>1</td>\n",
       "      <td>0</td>\n",
       "      <td>3</td>\n",
       "      <td>Braund, Mr. Owen Harris</td>\n",
       "      <td>male</td>\n",
       "      <td>22.0</td>\n",
       "      <td>1</td>\n",
       "      <td>0</td>\n",
       "      <td>A/5 21171</td>\n",
       "      <td>7.2500</td>\n",
       "      <td>NaN</td>\n",
       "      <td>S</td>\n",
       "    </tr>\n",
       "    <tr>\n",
       "      <th>4</th>\n",
       "      <td>5</td>\n",
       "      <td>0</td>\n",
       "      <td>3</td>\n",
       "      <td>Allen, Mr. William Henry</td>\n",
       "      <td>male</td>\n",
       "      <td>35.0</td>\n",
       "      <td>0</td>\n",
       "      <td>0</td>\n",
       "      <td>373450</td>\n",
       "      <td>8.0500</td>\n",
       "      <td>NaN</td>\n",
       "      <td>S</td>\n",
       "    </tr>\n",
       "    <tr>\n",
       "      <th>5</th>\n",
       "      <td>6</td>\n",
       "      <td>0</td>\n",
       "      <td>3</td>\n",
       "      <td>Moran, Mr. James</td>\n",
       "      <td>male</td>\n",
       "      <td>NaN</td>\n",
       "      <td>0</td>\n",
       "      <td>0</td>\n",
       "      <td>330877</td>\n",
       "      <td>8.4583</td>\n",
       "      <td>NaN</td>\n",
       "      <td>Q</td>\n",
       "    </tr>\n",
       "    <tr>\n",
       "      <th>6</th>\n",
       "      <td>7</td>\n",
       "      <td>0</td>\n",
       "      <td>1</td>\n",
       "      <td>McCarthy, Mr. Timothy J</td>\n",
       "      <td>male</td>\n",
       "      <td>54.0</td>\n",
       "      <td>0</td>\n",
       "      <td>0</td>\n",
       "      <td>17463</td>\n",
       "      <td>51.8625</td>\n",
       "      <td>E46</td>\n",
       "      <td>S</td>\n",
       "    </tr>\n",
       "    <tr>\n",
       "      <th>7</th>\n",
       "      <td>8</td>\n",
       "      <td>0</td>\n",
       "      <td>3</td>\n",
       "      <td>Palsson, Master. Gosta Leonard</td>\n",
       "      <td>male</td>\n",
       "      <td>2.0</td>\n",
       "      <td>3</td>\n",
       "      <td>1</td>\n",
       "      <td>349909</td>\n",
       "      <td>21.0750</td>\n",
       "      <td>NaN</td>\n",
       "      <td>S</td>\n",
       "    </tr>\n",
       "  </tbody>\n",
       "</table>\n",
       "</div>"
      ],
      "text/plain": [
       "   PassengerId  Survived  Pclass                            Name   Sex   Age  \\\n",
       "0            1         0       3         Braund, Mr. Owen Harris  male  22.0   \n",
       "4            5         0       3        Allen, Mr. William Henry  male  35.0   \n",
       "5            6         0       3                Moran, Mr. James  male   NaN   \n",
       "6            7         0       1         McCarthy, Mr. Timothy J  male  54.0   \n",
       "7            8         0       3  Palsson, Master. Gosta Leonard  male   2.0   \n",
       "\n",
       "   SibSp  Parch     Ticket     Fare Cabin Embarked  \n",
       "0      1      0  A/5 21171   7.2500   NaN        S  \n",
       "4      0      0     373450   8.0500   NaN        S  \n",
       "5      0      0     330877   8.4583   NaN        Q  \n",
       "6      0      0      17463  51.8625   E46        S  \n",
       "7      3      1     349909  21.0750   NaN        S  "
      ]
     },
     "execution_count": 333,
     "metadata": {},
     "output_type": "execute_result"
    }
   ],
   "source": [
    "# Create two new data frames \n",
    "male_data = data[data[\"Sex\"] == \"male\"]\n",
    "female_data = data[data[\"Sex\"] == \"female\"]\n",
    "# preview the new data frame\n",
    "male_data.head()"
   ]
  },
  {
   "cell_type": "code",
   "execution_count": 334,
   "metadata": {
    "scrolled": true
   },
   "outputs": [
    {
     "data": {
      "image/png": "[encoded data removed]",
      "text/plain": [
       "<matplotlib.figure.Figure at 0xbadb240>"
      ]
     },
     "metadata": {},
     "output_type": "display_data"
    }
   ],
   "source": [
    "# Get the value counts for male and female\n",
    "male_counts = male_data.Survived.value_counts()\n",
    "female_counts = female_data.Survived.value_counts()\n",
    "\n",
    "# Get values to plot in pie charts\n",
    "male_freq = male_counts.values\n",
    "female_freq = female_counts.values\n",
    "# Reverse the numpy array for better visualization\n",
    "female_freq_reverse = female_freq[::-1] \n",
    "\n",
    "plt.figure(figsize=(10, 5))\n",
    "plt.subplot(1, 2, 1)\n",
    "plt.title(\"Male Passangers\")\n",
    "plt.pie(male_freq, labels=[\"Lost At Sea\", \"Survivor\"], colors=[\"m\",\"y\"], autopct=\"%1.0f%%\")\n",
    "plt.subplot(1,2,2)\n",
    "plt.title(\"Female Passangers\")\n",
    "plt.pie(female_freq_reverse, labels=[\"Lost At Sea\", \"Survivor\"], colors=[\"m\",\"y\"], autopct=\"%1.0f%%\")\n",
    "plt.show()"
   ]
  },
  {
   "cell_type": "markdown",
   "metadata": {},
   "source": [
    "### Male vs. Female Passanger Results\n",
    "\n",
    "    There is a significant increase in survival rates for female passangers. This is evidence of how well the women were looked after and the priorities of the emergency personal. Women appear to have been given more attention / assistancee than men during the emergency."
   ]
  },
  {
   "cell_type": "markdown",
   "metadata": {},
   "source": [
    "## Question 2: Social status (class) of passanger versus survival rate"
   ]
  },
  {
   "cell_type": "code",
   "execution_count": 335,
   "metadata": {},
   "outputs": [
    {
     "data": {
      "text/plain": [
       "3    491\n",
       "1    216\n",
       "2    184\n",
       "Name: Pclass, dtype: int64"
      ]
     },
     "execution_count": 335,
     "metadata": {},
     "output_type": "execute_result"
    }
   ],
   "source": [
    "# Social status of passangers\n",
    "data.Pclass.value_counts()"
   ]
  },
  {
   "cell_type": "code",
   "execution_count": 336,
   "metadata": {
    "scrolled": true
   },
   "outputs": [
    {
     "data": {
      "image/png": "[encoded data removed]",
      "text/plain": [
       "<matplotlib.figure.Figure at 0x95d1240>"
      ]
     },
     "metadata": {},
     "output_type": "display_data"
    }
   ],
   "source": [
    "# Create new data frames for each class\n",
    "third_class = data[data.Pclass == 3]\n",
    "second_class = data[data.Pclass == 2]\n",
    "first_class = data[data.Pclass == 1]\n",
    "\n",
    "third_counts = third_class.Survived.value_counts()\n",
    "# print(\"Third Class: \" + str(third_counts))\n",
    "second_counts = second_class.Survived.value_counts()\n",
    "# print(\"Second Class: \" + str(second_counts))\n",
    "first_counts = first_class.Survived.value_counts()\n",
    "# print(\"First Class: \" + str(first_counts))\n",
    "\n",
    "# Get values to plot in pie charts\n",
    "third_freq = third_counts.values\n",
    "second_freq = second_counts.values\n",
    "first_freq = first_counts.values\n",
    "# Reverse the first class values to visualize the data more consistantly\n",
    "first_freq_reversed = first_freq[::-1]\n",
    "\n",
    "plt.figure(figsize=(15, 5))\n",
    "plt.subplot(1, 3, 1)\n",
    "plt.title(\"First Class Passangers\")\n",
    "plt.pie(first_freq_reversed, labels=[\"Lost At Sea\", \"Survivor\"], colors=[\"m\",\"y\"], autopct=\"%1.0f%%\")\n",
    "plt.subplot(1,3,2)\n",
    "plt.title(\"Second Class Passangers\")\n",
    "plt.pie(second_freq, labels=[\"Lost At Sea\", \"Survivor\"], colors=[\"m\",\"y\"], autopct=\"%1.0f%%\")\n",
    "plt.subplot(1,3,3)\n",
    "plt.title(\"Third Class Passangers\")\n",
    "plt.pie(third_freq, labels=[\"Lost At Sea\", \"Survivor\"], colors=[\"m\",\"y\"], autopct=\"%1.0f%%\")\n",
    "plt.show()"
   ]
  },
  {
   "cell_type": "markdown",
   "metadata": {},
   "source": [
    "### Social status results\n",
    "\n",
    "    It is clear that the survival rates increase as you move up in ticket class. This could be because the passangers in the higher classes were given better help / treatment. It is also possible that the rooms for the upper classes were in better parts of the ship with better access to help and life saving equipment. "
   ]
  },
  {
   "cell_type": "markdown",
   "metadata": {},
   "source": [
    "## Question 3: Age group versus survival rates"
   ]
  },
  {
   "cell_type": "code",
   "execution_count": 337,
   "metadata": {},
   "outputs": [
    {
     "data": {
      "text/plain": [
       "<matplotlib.collections.PathCollection at 0xd156f60>"
      ]
     },
     "execution_count": 337,
     "metadata": {},
     "output_type": "execute_result"
    },
    {
     "data": {
      "image/png": "[encoded data removed]",
      "text/plain": [
       "<matplotlib.figure.Figure at 0xcd7b160>"
      ]
     },
     "metadata": {},
     "output_type": "display_data"
    }
   ],
   "source": [
    "# Is it worth while to bin the data by age group? What does the spread currently look like?\n",
    "plt.scatter(x=data.Age, y=data.Survived) #Shows what the spread looks like to give an idea if its worth bining"
   ]
  },
  {
   "cell_type": "code",
   "execution_count": 338,
   "metadata": {},
   "outputs": [],
   "source": [
    "# There is no clear distribution in the preceding chart. Move forward with seperating into age groups\n",
    "\n",
    "# Remove all NaN values and transform column into type integer\n",
    "data.Age = data.Age.fillna(0)  # Does not edit in place, must re-assign. Change all \"NaN\" cells to 0\n",
    "data.Age = data.Age.astype(\"int\") # Change from type Float to type Int"
   ]
  },
  {
   "cell_type": "code",
   "execution_count": 339,
   "metadata": {},
   "outputs": [
    {
     "data": {
      "text/plain": [
       "(array([  7.,  10.,   6.,  10.,   4.,   3.,   3.,   4.,   8.,   2.,   4.,\n",
       "          1.,   2.,   7.,   5.,  17.,  13.,  26.,  25.,  16.,  24.,  27.,\n",
       "         16.,  31.,  23.,  18.,  18.,  27.,  20.,  27.,  17.,  20.,  15.,\n",
       "         16.,  18.,  23.,   6.,  11.,  14.,  15.,   6.,  13.,   5.,   9.,\n",
       "         14.,   3.,   9.,   9.,   6.,  10.,   7.,   6.,   1.,   8.,   3.,\n",
       "          4.,   2.,   5.,   2.,   4.,   3.,   4.,   2.,   2.,   3.,   1.,\n",
       "          0.,   0.,   0.,   3.,   2.,   0.,   0.,   1.,   0.,   0.,   0.,\n",
       "          0.,   0.,   1.]),\n",
       " array([  1.    ,   1.9875,   2.975 ,   3.9625,   4.95  ,   5.9375,\n",
       "          6.925 ,   7.9125,   8.9   ,   9.8875,  10.875 ,  11.8625,\n",
       "         12.85  ,  13.8375,  14.825 ,  15.8125,  16.8   ,  17.7875,\n",
       "         18.775 ,  19.7625,  20.75  ,  21.7375,  22.725 ,  23.7125,\n",
       "         24.7   ,  25.6875,  26.675 ,  27.6625,  28.65  ,  29.6375,\n",
       "         30.625 ,  31.6125,  32.6   ,  33.5875,  34.575 ,  35.5625,\n",
       "         36.55  ,  37.5375,  38.525 ,  39.5125,  40.5   ,  41.4875,\n",
       "         42.475 ,  43.4625,  44.45  ,  45.4375,  46.425 ,  47.4125,\n",
       "         48.4   ,  49.3875,  50.375 ,  51.3625,  52.35  ,  53.3375,\n",
       "         54.325 ,  55.3125,  56.3   ,  57.2875,  58.275 ,  59.2625,\n",
       "         60.25  ,  61.2375,  62.225 ,  63.2125,  64.2   ,  65.1875,\n",
       "         66.175 ,  67.1625,  68.15  ,  69.1375,  70.125 ,  71.1125,\n",
       "         72.1   ,  73.0875,  74.075 ,  75.0625,  76.05  ,  77.0375,\n",
       "         78.025 ,  79.0125,  80.    ]),\n",
       " <a list of 80 Patch objects>)"
      ]
     },
     "execution_count": 339,
     "metadata": {},
     "output_type": "execute_result"
    },
    {
     "data": {
      "image/png": "[encoded data removed]",
      "text/plain": [
       "<matplotlib.figure.Figure at 0xcdaafd0>"
      ]
     },
     "metadata": {},
     "output_type": "display_data"
    }
   ],
   "source": [
    "# Pull out all data where age is not equal to 0 which will remove all field that had a NaN\n",
    "age = data[data.Age > 0].Age\n",
    "plt.hist(age, bins = 80)"
   ]
  },
  {
   "cell_type": "code",
   "execution_count": 340,
   "metadata": {},
   "outputs": [],
   "source": [
    "# custom bin function to group by age\n",
    "def custom_bin(x):\n",
    "    if x > 60:\n",
    "        return \"60+\"\n",
    "    if x > 50:\n",
    "        return \"50s\"\n",
    "    if x > 40:\n",
    "        return \"40s\"\n",
    "    if x > 30:\n",
    "        return \"30s\"\n",
    "    if x > 20:\n",
    "        return \"20s\"\n",
    "    if x > 10:\n",
    "        return \"teens\"\n",
    "    if x > 0:\n",
    "        return \"child\"\n",
    "    return \"n/a\""
   ]
  },
  {
   "cell_type": "code",
   "execution_count": 341,
   "metadata": {},
   "outputs": [],
   "source": [
    "#Run the custom function to bin the age groups\n",
    "data[\"age bucket\"] = data.Age.apply(custom_bin)"
   ]
  },
  {
   "cell_type": "code",
   "execution_count": 342,
   "metadata": {},
   "outputs": [
    {
     "data": {
      "text/plain": [
       "20s      231\n",
       "n/a      184\n",
       "30s      155\n",
       "teens    116\n",
       "40s       84\n",
       "child     57\n",
       "50s       42\n",
       "60+       22\n",
       "Name: age bucket, dtype: int64"
      ]
     },
     "execution_count": 342,
     "metadata": {},
     "output_type": "execute_result"
    }
   ],
   "source": [
    "# run value counts on \"age buckets\"\n",
    "data[\"age bucket\"].value_counts()"
   ]
  },
  {
   "cell_type": "code",
   "execution_count": 343,
   "metadata": {},
   "outputs": [
    {
     "data": {
      "text/html": [
       "<div>\n",
       "<style>\n",
       "    .dataframe thead tr:only-child th {\n",
       "        text-align: right;\n",
       "    }\n",
       "\n",
       "    .dataframe thead th {\n",
       "        text-align: left;\n",
       "    }\n",
       "\n",
       "    .dataframe tbody tr th {\n",
       "        vertical-align: top;\n",
       "    }\n",
       "</style>\n",
       "<table border=\"1\" class=\"dataframe\">\n",
       "  <thead>\n",
       "    <tr>\n",
       "      <th></th>\n",
       "      <th colspan=\"2\" halign=\"left\">Age</th>\n",
       "      <th>Survivor Percentage</th>\n",
       "    </tr>\n",
       "    <tr>\n",
       "      <th>Survived</th>\n",
       "      <th>0</th>\n",
       "      <th>1</th>\n",
       "      <th></th>\n",
       "    </tr>\n",
       "    <tr>\n",
       "      <th>age bucket</th>\n",
       "      <th></th>\n",
       "      <th></th>\n",
       "      <th></th>\n",
       "    </tr>\n",
       "  </thead>\n",
       "  <tbody>\n",
       "    <tr>\n",
       "      <th>20s</th>\n",
       "      <td>147</td>\n",
       "      <td>84</td>\n",
       "      <td>0.363636</td>\n",
       "    </tr>\n",
       "    <tr>\n",
       "      <th>30s</th>\n",
       "      <td>86</td>\n",
       "      <td>69</td>\n",
       "      <td>0.445161</td>\n",
       "    </tr>\n",
       "    <tr>\n",
       "      <th>40s</th>\n",
       "      <td>51</td>\n",
       "      <td>33</td>\n",
       "      <td>0.392857</td>\n",
       "    </tr>\n",
       "    <tr>\n",
       "      <th>50s</th>\n",
       "      <td>25</td>\n",
       "      <td>17</td>\n",
       "      <td>0.404762</td>\n",
       "    </tr>\n",
       "    <tr>\n",
       "      <th>60+</th>\n",
       "      <td>17</td>\n",
       "      <td>5</td>\n",
       "      <td>0.227273</td>\n",
       "    </tr>\n",
       "    <tr>\n",
       "      <th>child</th>\n",
       "      <td>26</td>\n",
       "      <td>31</td>\n",
       "      <td>0.543860</td>\n",
       "    </tr>\n",
       "    <tr>\n",
       "      <th>n/a</th>\n",
       "      <td>125</td>\n",
       "      <td>59</td>\n",
       "      <td>0.320652</td>\n",
       "    </tr>\n",
       "    <tr>\n",
       "      <th>teens</th>\n",
       "      <td>72</td>\n",
       "      <td>44</td>\n",
       "      <td>0.379310</td>\n",
       "    </tr>\n",
       "  </tbody>\n",
       "</table>\n",
       "</div>"
      ],
      "text/plain": [
       "            Age     Survivor Percentage\n",
       "Survived      0   1                    \n",
       "age bucket                             \n",
       "20s         147  84            0.363636\n",
       "30s          86  69            0.445161\n",
       "40s          51  33            0.392857\n",
       "50s          25  17            0.404762\n",
       "60+          17   5            0.227273\n",
       "child        26  31            0.543860\n",
       "n/a         125  59            0.320652\n",
       "teens        72  44            0.379310"
      ]
     },
     "execution_count": 343,
     "metadata": {},
     "output_type": "execute_result"
    }
   ],
   "source": [
    "# Create a pivot table with age bins, survived, lost at sea, and survival percentage\n",
    "step1 = data.pivot_table(values=['Age'],columns=['Survived'],index=['age bucket'], aggfunc='count')\n",
    "# Create a new column \"Survivor Percentage\" by running a function across each row\n",
    "step1[('Survivor Percentage')]=(step1[('Age',1)]/(step1[('Age',0)]+step1[('Age',1)]))\n",
    "step1"
   ]
  },
  {
   "cell_type": "code",
   "execution_count": 344,
   "metadata": {},
   "outputs": [
    {
     "data": {
      "image/png": "[encoded data removed]",
      "text/plain": [
       "<matplotlib.figure.Figure at 0xd290f28>"
      ]
     },
     "metadata": {},
     "output_type": "display_data"
    }
   ],
   "source": [
    "# Make a bar chart comparing survivor percentages by age group. Remove the \"n/a\" group\n",
    "step1[step1.index != \"n/a\"]['Survivor Percentage'].plot(kind='bar', title='Survivor Percentage by Age Group', figsize=(10,5), fontsize=12)\n",
    "# Add in a horizontal line for the average survival rate across all age groups\n",
    "plt.axhline(y=np.mean(step1[step1.index != \"n/a\"]['Survivor Percentage']), color=\"green\", linestyle=\"dashed\")\n",
    "plt.show()"
   ]
  },
  {
   "cell_type": "markdown",
   "metadata": {},
   "source": [
    "### Survival chances by age group results\n",
    "\n",
    "    It looks like children were prioritized during the emergency. This is consistent with the standard mantra of \"women and children first\". Our previous results showed that women were also given high priority.\n",
    "    \n",
    "    Senior citizens (60+)  did not do super well. They are more fragile and thus more susceptible to injury."
   ]
  },
  {
   "cell_type": "markdown",
   "metadata": {},
   "source": [
    "## Question 4: Cabin versus survival rates"
   ]
  },
  {
   "cell_type": "code",
   "execution_count": 345,
   "metadata": {},
   "outputs": [],
   "source": [
    "# Investigate the cabin information\n",
    "data.Cabin.head(30)\n",
    "# Fill NaN values with \"na\"\n",
    "data.Cabin = data.Cabin.fillna(\"na\")\n",
    "cabin_counts = data.Cabin.value_counts()\n",
    "# cabin_counts"
   ]
  },
  {
   "cell_type": "code",
   "execution_count": 346,
   "metadata": {},
   "outputs": [
    {
     "name": "stderr",
     "output_type": "stream",
     "text": [
      "c:\\users\\matt.berry\\appdata\\local\\programs\\python\\python36\\lib\\re.py:212: FutureWarning: split() requires a non-empty pattern match.\n",
      "  return _compile(pattern, flags).split(string, maxsplit)\n"
     ]
    }
   ],
   "source": [
    "# Extract the cabin letters from the string index (remove all numbers and special characters)\n",
    "# cabin_counts.index\n",
    "\n",
    "# define a function to scrub the cabins data\n",
    "def extract_cabin(cabin):\n",
    "    return \"\".join(re.split(\"[^a-zA-Z]*\", cabin))\n",
    "\n",
    "# define a function to remove repeating cabins\n",
    "def simplify_cabin(cabin):\n",
    "    return \"\".join(list(set(cabin)))\n",
    "        \n",
    "#Run the extract_cabin and simplify_cabin functions across each row\n",
    "data[\"Cabin Info\"] = data.Cabin.apply(extract_cabin)\n",
    "data[\"Cabin Info\"] = data['Cabin Info'].apply(simplify_cabin)"
   ]
  },
  {
   "cell_type": "code",
   "execution_count": 347,
   "metadata": {},
   "outputs": [
    {
     "data": {
      "text/plain": [
       "na    687\n",
       "C      59\n",
       "B      47\n",
       "D      33\n",
       "E      32\n",
       "A      15\n",
       "F       9\n",
       "G       4\n",
       "FG      3\n",
       "FE      1\n",
       "T       1\n",
       "Name: Cabin Info, dtype: int64"
      ]
     },
     "execution_count": 347,
     "metadata": {},
     "output_type": "execute_result"
    }
   ],
   "source": [
    "# Investigate new Cabin Info column\n",
    "data['Cabin Info'].head(30)\n",
    "data['Cabin Info'].value_counts()"
   ]
  },
  {
   "cell_type": "code",
   "execution_count": 348,
   "metadata": {},
   "outputs": [
    {
     "data": {
      "text/html": [
       "<div>\n",
       "<style>\n",
       "    .dataframe thead tr:only-child th {\n",
       "        text-align: right;\n",
       "    }\n",
       "\n",
       "    .dataframe thead th {\n",
       "        text-align: left;\n",
       "    }\n",
       "\n",
       "    .dataframe tbody tr th {\n",
       "        vertical-align: top;\n",
       "    }\n",
       "</style>\n",
       "<table border=\"1\" class=\"dataframe\">\n",
       "  <thead>\n",
       "    <tr>\n",
       "      <th></th>\n",
       "      <th colspan=\"2\" halign=\"left\">Cabin</th>\n",
       "      <th>Survivor Percentage</th>\n",
       "    </tr>\n",
       "    <tr>\n",
       "      <th>Survived</th>\n",
       "      <th>0</th>\n",
       "      <th>1</th>\n",
       "      <th></th>\n",
       "    </tr>\n",
       "    <tr>\n",
       "      <th>Cabin Info</th>\n",
       "      <th></th>\n",
       "      <th></th>\n",
       "      <th></th>\n",
       "    </tr>\n",
       "  </thead>\n",
       "  <tbody>\n",
       "    <tr>\n",
       "      <th>A</th>\n",
       "      <td>8.0</td>\n",
       "      <td>7.0</td>\n",
       "      <td>0.466667</td>\n",
       "    </tr>\n",
       "    <tr>\n",
       "      <th>B</th>\n",
       "      <td>12.0</td>\n",
       "      <td>35.0</td>\n",
       "      <td>0.744681</td>\n",
       "    </tr>\n",
       "    <tr>\n",
       "      <th>C</th>\n",
       "      <td>24.0</td>\n",
       "      <td>35.0</td>\n",
       "      <td>0.593220</td>\n",
       "    </tr>\n",
       "    <tr>\n",
       "      <th>D</th>\n",
       "      <td>8.0</td>\n",
       "      <td>25.0</td>\n",
       "      <td>0.757576</td>\n",
       "    </tr>\n",
       "    <tr>\n",
       "      <th>E</th>\n",
       "      <td>8.0</td>\n",
       "      <td>24.0</td>\n",
       "      <td>0.750000</td>\n",
       "    </tr>\n",
       "    <tr>\n",
       "      <th>F</th>\n",
       "      <td>2.0</td>\n",
       "      <td>7.0</td>\n",
       "      <td>0.777778</td>\n",
       "    </tr>\n",
       "    <tr>\n",
       "      <th>FE</th>\n",
       "      <td>NaN</td>\n",
       "      <td>1.0</td>\n",
       "      <td>NaN</td>\n",
       "    </tr>\n",
       "    <tr>\n",
       "      <th>FG</th>\n",
       "      <td>3.0</td>\n",
       "      <td>NaN</td>\n",
       "      <td>NaN</td>\n",
       "    </tr>\n",
       "    <tr>\n",
       "      <th>G</th>\n",
       "      <td>2.0</td>\n",
       "      <td>2.0</td>\n",
       "      <td>0.500000</td>\n",
       "    </tr>\n",
       "    <tr>\n",
       "      <th>T</th>\n",
       "      <td>1.0</td>\n",
       "      <td>NaN</td>\n",
       "      <td>NaN</td>\n",
       "    </tr>\n",
       "    <tr>\n",
       "      <th>na</th>\n",
       "      <td>481.0</td>\n",
       "      <td>206.0</td>\n",
       "      <td>0.299854</td>\n",
       "    </tr>\n",
       "  </tbody>\n",
       "</table>\n",
       "</div>"
      ],
      "text/plain": [
       "            Cabin        Survivor Percentage\n",
       "Survived        0      1                    \n",
       "Cabin Info                                  \n",
       "A             8.0    7.0            0.466667\n",
       "B            12.0   35.0            0.744681\n",
       "C            24.0   35.0            0.593220\n",
       "D             8.0   25.0            0.757576\n",
       "E             8.0   24.0            0.750000\n",
       "F             2.0    7.0            0.777778\n",
       "FE            NaN    1.0                 NaN\n",
       "FG            3.0    NaN                 NaN\n",
       "G             2.0    2.0            0.500000\n",
       "T             1.0    NaN                 NaN\n",
       "na          481.0  206.0            0.299854"
      ]
     },
     "execution_count": 348,
     "metadata": {},
     "output_type": "execute_result"
    }
   ],
   "source": [
    "# Create a pivot table with cabin information, survived, lost at sea, and survival percentage\n",
    "step2 = data.pivot_table(values=['Cabin'],columns=['Survived'],index=['Cabin Info'], aggfunc='count')\n",
    "step2[('Survivor Percentage')]=(step2[('Cabin',1)]/(step2[('Cabin',0)]+step2[('Cabin',1)]))\n",
    "step2"
   ]
  },
  {
   "cell_type": "code",
   "execution_count": 349,
   "metadata": {},
   "outputs": [
    {
     "data": {
      "image/png": "[encoded data removed]",
      "text/plain": [
       "<matplotlib.figure.Figure at 0xcbf9fd0>"
      ]
     },
     "metadata": {},
     "output_type": "display_data"
    }
   ],
   "source": [
    "# Make a bar chart comparing survivor percentages by Cabin. Only show finite rows from Survivor Percentage (np.isfinite(step2['Survivor Percentage]))\n",
    "step2[np.isfinite(step2['Survivor Percentage'])]['Survivor Percentage'].plot(kind='bar', title='Survivor Percentage by Cabin', figsize=(10,5), fontsize=12)\n",
    "# Insert a horizontal line to show the average survival rates of each cabin class\n",
    "plt.axhline(y=np.mean(step2['Survivor Percentage']), color=\"green\", linestyle=\"dashed\")\n",
    "plt.show()"
   ]
  },
  {
   "cell_type": "markdown",
   "metadata": {},
   "source": [
    "### Cabin class results:\n",
    "\n",
    "     Refering to the website (http://www.titanicandco.com/inside.html) the cabin classes are shown below:\n",
    "     A: Boat Deck\n",
    "     B: Promenade Deck \n",
    "     C: Bridge Deck\n",
    "     D: Shelter Deck\n",
    "     E: Saloon Deck\n",
    "     F: Upper Deck\n",
    "     G: Middle Deck\n",
    "     na: Lower Deck, Orlop Deck, and Tank Top.\n",
    "     \n",
    "     The chart shows a much higher survival rate for passangers who stayed in the upper parts of the ship (Promenade, Shelter, Saloon, and Upper Decks). These were most likely also high class tickets (refer back to the social class analysis). However, further analysis must be completed to evaluate any correlation. This does make sense though since the passangers in the upper parts of the ship would have more time to exit the boat and get to safety. However, if you were trapped too high (deck A) then your survival rate dropped back off. Any passangers below the main deck would have a higher likelyhood of being trapped as water filled the boat and thus would be harder to assist during the emergency. "
   ]
  },
  {
   "cell_type": "code",
   "execution_count": null,
   "metadata": {},
   "outputs": [],
   "source": []
  }
 ],
 "metadata": {
  "kernelspec": {
   "display_name": "Python 3",
   "language": "python",
   "name": "python3"
  },
  "language_info": {
   "codemirror_mode": {
    "name": "ipython",
    "version": 3
   },
   "file_extension": ".py",
   "mimetype": "text/x-python",
   "name": "python",
   "nbconvert_exporter": "python",
   "pygments_lexer": "ipython3",
   "version": "3.6.1"
  }
 },
 "nbformat": 4,
 "nbformat_minor": 2
}
