{
 "cells": [
  {
   "cell_type": "code",
   "execution_count": 1,
   "metadata": {
    "scrolled": true
   },
   "outputs": [
    {
     "name": "stdout",
     "output_type": "stream",
     "text": [
      "Probability of positive result: 0.1044\n",
      "Probability of correct diagnosis (sufferer): 0.98\n",
      "Probability of correct diagnosis (non-sufferer): 0.9\n",
      "Probability of misclassifying someone: 0.09960000000000001\n"
     ]
    }
   ],
   "source": [
    "# probability estimations\n",
    "p_positive = (.98 * .005) + (.1 *.995)\n",
    "print(\"Probability of positive result: \" + str(p_positive))\n",
    "correct_diagnosis = .98\n",
    "print(\"Probability of correct diagnosis (sufferer): \" + str(correct_diagnosis))\n",
    "correct_diagnosis_non = .9 \n",
    "print(\"Probability of correct diagnosis (non-sufferer): \" + str(correct_diagnosis_non))\n",
    "misclassify = (.1 * .995) + (.02*.005)\n",
    "print(\"Probability of misclassifying someone: \" + str(misclassify))"
   ]
  },
  {
   "cell_type": "code",
   "execution_count": 5,
   "metadata": {},
   "outputs": [
    {
     "name": "stdout",
     "output_type": "stream",
     "text": [
      "Probability of having the disease given a positive diagnosis: 0.04693\n",
      "Probability of being healthy given a positive diagnosis: 0.95307\n"
     ]
    }
   ],
   "source": [
    "# Probabilities using Baye's rule\n",
    "# Probability of having Thripshaws disease given a positive diagnosis\n",
    "# P(having disease | positive diagnosis) = P(positive diagnosis | having disease) * P(having disease) / P(positive diagnosis)\n",
    "p1 = .98 * .005 / p_positive\n",
    "print(\"Probability of having the disease given a positive diagnosis: %.5f\" %p1)\n",
    "\n",
    "#P(healthy | positive diagnosis) = P(positive diagnosis | healthy) * P(healthy) / P(positive diagnosis)\n",
    "p2 = .1 * (1-.005) / p_positive\n",
    "print(\"Probability of being healthy given a positive diagnosis: %.5f\" %p2)"
   ]
  },
  {
   "cell_type": "markdown",
   "metadata": {},
   "source": [
    "## Results:\n",
    "     Although the test will correctly identify 98% of the people who actually have Thripshaws, the false positives skew the overal rates and your probability of having Thripshaws given a positive diagnosis is 4.69%. "
   ]
  },
  {
   "cell_type": "code",
   "execution_count": null,
   "metadata": {},
   "outputs": [],
   "source": []
  }
 ],
 "metadata": {
  "kernelspec": {
   "display_name": "Python 3",
   "language": "python",
   "name": "python3"
  },
  "language_info": {
   "codemirror_mode": {
    "name": "ipython",
    "version": 3
   },
   "file_extension": ".py",
   "mimetype": "text/x-python",
   "name": "python",
   "nbconvert_exporter": "python",
   "pygments_lexer": "ipython3",
   "version": "3.6.1"
  }
 },
 "nbformat": 4,
 "nbformat_minor": 2
}
