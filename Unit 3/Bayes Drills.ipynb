{
 "cells": [
  {
   "cell_type": "code",
   "execution_count": 7,
   "metadata": {
    "scrolled": true
   },
   "outputs": [
    {
     "name": "stdout",
     "output_type": "stream",
     "text": [
      "Probability of positive result: 0.1044\n",
      "Probability of correct diagnosis (sufferer): 0.98\n",
      "Probability of correct diagnosis (non-sufferer): 0.9\n",
      "Probability of misclassifying someone: 0.09960000000000001\n"
     ]
    }
   ],
   "source": [
    "# probability estimations\n",
    "# Equation is: P(positive) = P(sufferer) * P(positive | sufferer) + P(nonsufferer) * P(positive|nonsufferer)\n",
    "p_positive = (.98 * .005) + (.1 *.995)\n",
    "print(\"Probability of positive result: \" + str(p_positive))\n",
    "correct_diagnosis = .98\n",
    "print(\"Probability of correct diagnosis (sufferer): \" + str(correct_diagnosis))\n",
    "correct_diagnosis_non = .9 \n",
    "print(\"Probability of correct diagnosis (non-sufferer): \" + str(correct_diagnosis_non))\n",
    "misclassify = (.1 * .995) + (.02*.005)\n",
    "print(\"Probability of misclassifying someone: \" + str(misclassify))"
   ]
  },
  {
   "cell_type": "code",
   "execution_count": 15,
   "metadata": {},
   "outputs": [
    {
     "name": "stdout",
     "output_type": "stream",
     "text": [
      "0.046934865900383135\n",
      "0.9998883430102725\n"
     ]
    }
   ],
   "source": [
    "# Probabilities using Baye's rule\n",
    "p_positive_sufferer = .98\n",
    "p_positive_nonsufferer = .1\n",
    "population = .005\n",
    "#P(positive diagnosis | sufferer ) =  P(sufferer | positive diagnosis ) *P(positive diagnosis) / P(sufferer)\n",
    "# .98 = x * .1044 / .005\n",
    "# P(sufferer | positive diagnosis) =\n",
    "p1 = .98 / .1044 * .005 # probability you are actually a sufferer given a positive diagnosis\n",
    "print(p1)\n",
    "#P(negative diagnosis | non-sufferer) = P (non-sufferer | negative diagnosis) * P(negative diagnosis) / P(non-sufferer)\n",
    "# .9 = x * (1 - .1044) / .995\n",
    "#P(non-sufferer | negative diagnosis) =\n",
    "p2 = .9 /(1- .1044) * .995\n",
    "print(p2)"
   ]
  },
  {
   "cell_type": "code",
   "execution_count": null,
   "metadata": {},
   "outputs": [],
   "source": []
  }
 ],
 "metadata": {
  "kernelspec": {
   "display_name": "Python 3",
   "language": "python",
   "name": "python3"
  },
  "language_info": {
   "codemirror_mode": {
    "name": "ipython",
    "version": 3
   },
   "file_extension": ".py",
   "mimetype": "text/x-python",
   "name": "python",
   "nbconvert_exporter": "python",
   "pygments_lexer": "ipython3",
   "version": "3.6.1"
  }
 },
 "nbformat": 4,
 "nbformat_minor": 2
}
