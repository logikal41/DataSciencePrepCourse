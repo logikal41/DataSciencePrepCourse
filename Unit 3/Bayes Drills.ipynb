{
 "cells": [
  {
   "cell_type": "code",
   "execution_count": 12,
   "metadata": {},
   "outputs": [
    {
     "name": "stdout",
     "output_type": "stream",
     "text": [
      "Probability of positive result: 0.1044\n",
      "Probability of correct diagnosis (sufferer): 0.98\n",
      "Probability of correct diagnosis (non-sufferer): 0.9\n",
      "Probability of misclassifying someone: 0.09960000000000001\n"
     ]
    }
   ],
   "source": [
    "# probability estimations\n",
    "p_positive = (.98 * .005) + (.1 *.995)\n",
    "print(\"Probability of positive result: \" + str(p_positive))\n",
    "correct_diagnosis = .98\n",
    "print(\"Probability of correct diagnosis (sufferer): \" + str(correct_diagnosis))\n",
    "correct_diagnosis_non = .9 \n",
    "print(\"Probability of correct diagnosis (non-sufferer): \" + str(correct_diagnosis_non))\n",
    "misclassify = (.1 * .995) + (.02*.005)\n",
    "print(\"Probability of misclassifying someone: \" + str(misclassify))"
   ]
  },
  {
   "cell_type": "code",
   "execution_count": 10,
   "metadata": {},
   "outputs": [
    {
     "name": "stdout",
     "output_type": "stream",
     "text": [
      "Probability of positive result: 0.11231200000000001\n"
     ]
    }
   ],
   "source": [
    "# Probabilities using Baye's rule\n",
    "p_positive_sufferer = .98\n",
    "p_positive_nonsufferer = .1\n",
    "population = .005\n",
    "#P(positive | sufferer ) = P(sufferer | positive ) * P(positive) / P(sufferer)\n",
    "p1 = (population * p_positive_sufferer) * (p_positive / population)\n",
    "#P(positive | non-sufferer) = P (non-sufferer | positive) * P(positive) / P(non-sufferer)\n",
    "p2 = ((1-population) * .1) * (.1 / (1-population))\n",
    "print(\"Probability of positive result: \" + str(p1 + p2))"
   ]
  },
  {
   "cell_type": "code",
   "execution_count": 13,
   "metadata": {},
   "outputs": [],
   "source": [
    "# how do you apply the bayes formulas in line 10 to get the answers found in line 9????"
   ]
  },
  {
   "cell_type": "code",
   "execution_count": null,
   "metadata": {},
   "outputs": [],
   "source": []
  }
 ],
 "metadata": {
  "kernelspec": {
   "display_name": "Python 3",
   "language": "python",
   "name": "python3"
  },
  "language_info": {
   "codemirror_mode": {
    "name": "ipython",
    "version": 3
   },
   "file_extension": ".py",
   "mimetype": "text/x-python",
   "name": "python",
   "nbconvert_exporter": "python",
   "pygments_lexer": "ipython3",
   "version": "3.6.1"
  }
 },
 "nbformat": 4,
 "nbformat_minor": 2
}
