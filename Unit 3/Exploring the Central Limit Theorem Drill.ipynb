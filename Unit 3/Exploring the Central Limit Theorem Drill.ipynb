{
 "cells": [
  {
   "cell_type": "code",
   "execution_count": 21,
   "metadata": {},
   "outputs": [],
   "source": [
    "import numpy as np\n",
    "import pandas as pd\n",
    "import matplotlib.pyplot as plt\n",
    "import scipy\n",
    "from scipy.stats import ttest_ind\n",
    "%matplotlib inline"
   ]
  },
  {
   "cell_type": "code",
   "execution_count": 3,
   "metadata": {},
   "outputs": [],
   "source": [
    "# population and sample variables\n",
    "pop1 = np.random.binomial(10, 0.2, 10000)\n",
    "pop2 = np.random.binomial(10, 0.5, 10000)\n",
    "sample1 = np.random.choice(pop1, 100, replace=True)\n",
    "sample2 = np.random.choice(pop2, 100, replace=True)"
   ]
  },
  {
   "cell_type": "code",
   "execution_count": 8,
   "metadata": {},
   "outputs": [
    {
     "name": "stdout",
     "output_type": "stream",
     "text": [
      "Population 1 mean: 2.00\n",
      "Population 1 standard deviation: 1.25\n",
      "Population 2 mean: 5.03\n",
      "Population 2 standard deviation: 1.59\n"
     ]
    },
    {
     "data": {
      "image/png": "[encoded data removed]",
      "text/plain": [
       "<matplotlib.figure.Figure at 0x8a982b0>"
      ]
     },
     "metadata": {},
     "output_type": "display_data"
    }
   ],
   "source": [
    "# Calculate the mean and standard deviation of both populations\n",
    "pop1_mean = np.mean(pop1)\n",
    "print(\"Population 1 mean: %.2f\" %pop1_mean)\n",
    "pop1_stdev = np.std(pop1)\n",
    "print(\"Population 1 standard deviation: %.2f\" %pop1_stdev)\n",
    "\n",
    "pop2_mean = np.mean(pop2)\n",
    "print(\"Population 2 mean: %.2f\" %pop2_mean)\n",
    "pop2_stdev = np.std(pop2)\n",
    "print(\"Population 2 standard deviation: %.2f\" %pop2_stdev)\n",
    "\n",
    "#plot histogram\n",
    "plt.hist(pop1, alpha=0.5, label='Population 1') \n",
    "plt.hist(pop2, alpha=0.5, label='Population 2') \n",
    "plt.legend(loc='upper right') \n",
    "plt.show()"
   ]
  },
  {
   "cell_type": "code",
   "execution_count": 7,
   "metadata": {},
   "outputs": [
    {
     "name": "stdout",
     "output_type": "stream",
     "text": [
      "Sample 1 mean: 2.08\n",
      "Sample 1 standard deviation: 1.25\n",
      "Sample 2 mean: 5.12\n",
      "Sample 2 standard deviation: 1.61\n"
     ]
    },
    {
     "data": {
      "image/png": "[encoded data removed]",
      "text/plain": [
       "<matplotlib.figure.Figure at 0x8a98550>"
      ]
     },
     "metadata": {},
     "output_type": "display_data"
    }
   ],
   "source": [
    "# Calculate the mean and standard deviation of both samples\n",
    "sample1_mean = np.mean(sample1)\n",
    "print(\"Sample 1 mean: %.2f\" %sample1_mean)\n",
    "sample1_stdev = np.std(sample1)\n",
    "print(\"Sample 1 standard deviation: %.2f\" %sample1_stdev)\n",
    "\n",
    "sample2_mean = np.mean(sample2)\n",
    "print(\"Sample 2 mean: %.2f\" %sample2_mean)\n",
    "sample2_stdev = np.std(sample2)\n",
    "print(\"Sample 2 standard deviation: %.2f\" %sample2_stdev)\n",
    "\n",
    "#plot histogram\n",
    "plt.hist(sample1, alpha=0.5, label='Sample 1') \n",
    "plt.hist(sample2, alpha=0.5, label='Sample 2') \n",
    "plt.legend(loc='upper right') \n",
    "plt.show()"
   ]
  },
  {
   "cell_type": "markdown",
   "metadata": {},
   "source": [
    "    Increase sample size from 100 to 1000 and recalculate mean and std deviation as well as plot histogram. \n",
    "    \n",
    "    I expect that the histogram will show the distributions behaving a bit more normal as n increases. At the very least they will start to look more like the population data that they are sampled from and the measures of central tendancy will begin to converge on the population characteristics."
   ]
  },
  {
   "cell_type": "code",
   "execution_count": 9,
   "metadata": {},
   "outputs": [
    {
     "name": "stdout",
     "output_type": "stream",
     "text": [
      "Sample 1a mean: 2.00\n",
      "Sample 1a standard deviation: 1.19\n",
      "Sample 2a mean: 5.02\n",
      "Sample 2a standard deviation: 1.55\n"
     ]
    },
    {
     "data": {
      "image/png": "[encoded data removed]",
      "text/plain": [
       "<matplotlib.figure.Figure at 0x8a80908>"
      ]
     },
     "metadata": {},
     "output_type": "display_data"
    }
   ],
   "source": [
    "# increase sample size from 100 to 1000\n",
    "sample1a = np.random.choice(pop1, 1000, replace=True)\n",
    "sample2a = np.random.choice(pop2, 1000, replace=True)\n",
    "\n",
    "# Calculate the mean and standard deviation of both samples\n",
    "sample1a_mean = np.mean(sample1a)\n",
    "print(\"Sample 1a mean: %.2f\" %sample1a_mean)\n",
    "sample1a_stdev = np.std(sample1a)\n",
    "print(\"Sample 1a standard deviation: %.2f\" %sample1a_stdev)\n",
    "\n",
    "sample2a_mean = np.mean(sample2a)\n",
    "print(\"Sample 2a mean: %.2f\" %sample2a_mean)\n",
    "sample2a_stdev = np.std(sample2a)\n",
    "print(\"Sample 2a standard deviation: %.2f\" %sample2a_stdev)\n",
    "\n",
    "#plot histogram\n",
    "plt.hist(sample1a, alpha=0.5, label='Sample 1a') \n",
    "plt.hist(sample2a, alpha=0.5, label='Sample 2a') \n",
    "plt.legend(loc='upper right') \n",
    "plt.show()"
   ]
  },
  {
   "cell_type": "markdown",
   "metadata": {},
   "source": [
    "Decrease sample size from 100 to 20 and recalculate mean and std deviation as well as plot histogram. \n",
    "\n",
    "I expect that the histogram will show a more unclear version of the distribution. The histogram along with measures of central tendancy will diverge from the actual population data as the sample size decreases due to the lack of information used to create the estimates."
   ]
  },
  {
   "cell_type": "code",
   "execution_count": 13,
   "metadata": {},
   "outputs": [
    {
     "name": "stdout",
     "output_type": "stream",
     "text": [
      "Sample 1b mean: 1.80\n",
      "Sample 1b standard deviation: 0.93\n",
      "Sample 2b mean: 5.05\n",
      "Sample 2b standard deviation: 1.12\n"
     ]
    },
    {
     "data": {
      "image/png": "[encoded data removed]",
      "text/plain": [
       "<matplotlib.figure.Figure at 0x8fefb38>"
      ]
     },
     "metadata": {},
     "output_type": "display_data"
    }
   ],
   "source": [
    "# decrease sample size from 100 to 20\n",
    "sample1b = np.random.choice(pop1, 20, replace=True)\n",
    "sample2b = np.random.choice(pop2, 20, replace=True)\n",
    "\n",
    "# Calculate the mean and standard deviation of both samples\n",
    "sample1b_mean = np.mean(sample1b)\n",
    "print(\"Sample 1b mean: %.2f\" %sample1b_mean)\n",
    "sample1b_stdev = np.std(sample1b)\n",
    "print(\"Sample 1b standard deviation: %.2f\" %sample1b_stdev)\n",
    "\n",
    "sample2b_mean = np.mean(sample2b)\n",
    "print(\"Sample 2b mean: %.2f\" %sample2b_mean)\n",
    "sample2b_stdev = np.std(sample2b)\n",
    "print(\"Sample 2b standard deviation: %.2f\" %sample2b_stdev)\n",
    "\n",
    "#plot histogram\n",
    "plt.hist(sample1b, alpha=0.5, label='Sample 1b') \n",
    "plt.hist(sample2b, alpha=0.5, label='Sample 2b') \n",
    "plt.legend(loc='upper right') \n",
    "plt.show()"
   ]
  },
  {
   "cell_type": "markdown",
   "metadata": {},
   "source": [
    "    Change population value for populations and take new samples. Compute t-stat and p-value."
   ]
  },
  {
   "cell_type": "code",
   "execution_count": 14,
   "metadata": {},
   "outputs": [],
   "source": [
    "# update population and sample variables\n",
    "pop1a = np.random.binomial(10, 0.3, 10000)\n",
    "sample1c = np.random.choice(pop1a, 100, replace=True)"
   ]
  },
  {
   "cell_type": "code",
   "execution_count": 15,
   "metadata": {},
   "outputs": [
    {
     "name": "stdout",
     "output_type": "stream",
     "text": [
      "Sample 1c mean: 3.07\n",
      "Sample 1c standard deviation: 1.36\n"
     ]
    },
    {
     "data": {
      "image/png": "[encoded data removed]",
      "text/plain": [
       "<matplotlib.figure.Figure at 0x9135908>"
      ]
     },
     "metadata": {},
     "output_type": "display_data"
    }
   ],
   "source": [
    "# Calculate the mean and standard deviation of sample\n",
    "sample1c_mean = np.mean(sample1c)\n",
    "print(\"Sample 1c mean: %.2f\" %sample1c_mean)\n",
    "sample1c_stdev = np.std(sample1c)\n",
    "print(\"Sample 1c standard deviation: %.2f\" %sample1c_stdev)\n",
    "\n",
    "#plot histogram\n",
    "plt.hist(sample1c, alpha=0.5, label='Sample 1c') \n",
    "plt.legend(loc='upper right') \n",
    "plt.show()"
   ]
  },
  {
   "cell_type": "code",
   "execution_count": 20,
   "metadata": {},
   "outputs": [
    {
     "name": "stdout",
     "output_type": "stream",
     "text": [
      "Difference between sample means: -0.99\n",
      "t statistic: -5.370\n"
     ]
    }
   ],
   "source": [
    "# sample1 => original population data, sample1c => updated population data\n",
    "# t statistic and p value\n",
    "diff = sample1.mean() - sample1c.mean()\n",
    "print(\"Difference between sample means: %.2f\" %diff)\n",
    "size = np.array([len(sample1), len(sample1c)])\n",
    "sd = np.array([sample1.std(), sample1c.std()])\n",
    "\n",
    "# squared standard deviations are divided by the sample size and summed, then we take the square root of the sum\n",
    "diff_se = (sum(sd**2/size))**0.5\n",
    "\n",
    "# The difference between means divided by the standard error = T-value\n",
    "print(\"t statistic: %.3f\" %(diff/diff_se))"
   ]
  },
  {
   "cell_type": "code",
   "execution_count": 22,
   "metadata": {},
   "outputs": [
    {
     "name": "stdout",
     "output_type": "stream",
     "text": [
      "Ttest_indResult(statistic=5.343137816209846, pvalue=2.515457122416404e-07)\n"
     ]
    }
   ],
   "source": [
    "# evaluate t-statistic and p-value using scipy.stats package\n",
    "print(ttest_ind(sample1c, sample1, equal_var=False))"
   ]
  },
  {
   "cell_type": "markdown",
   "metadata": {},
   "source": [
    "Change the population again by updating p to 0.4"
   ]
  },
  {
   "cell_type": "code",
   "execution_count": 23,
   "metadata": {},
   "outputs": [],
   "source": [
    "# update population and sample variables\n",
    "pop1b = np.random.binomial(10, 0.4, 10000)\n",
    "sample1d = np.random.choice(pop1b, 100, replace=True)"
   ]
  },
  {
   "cell_type": "code",
   "execution_count": 24,
   "metadata": {},
   "outputs": [
    {
     "name": "stdout",
     "output_type": "stream",
     "text": [
      "Sample 1d mean: 3.89\n",
      "Sample 1d standard deviation: 1.60\n"
     ]
    },
    {
     "data": {
      "image/png": "[encoded data removed]",
      "text/plain": [
       "<matplotlib.figure.Figure at 0x8f2b1d0>"
      ]
     },
     "metadata": {},
     "output_type": "display_data"
    }
   ],
   "source": [
    "# Calculate the mean and standard deviation of sample\n",
    "sample1d_mean = np.mean(sample1d)\n",
    "print(\"Sample 1d mean: %.2f\" %sample1d_mean)\n",
    "sample1d_stdev = np.std(sample1d)\n",
    "print(\"Sample 1d standard deviation: %.2f\" %sample1d_stdev)\n",
    "\n",
    "#plot histogram\n",
    "plt.hist(sample1d, alpha=0.5, label='Sample 1d') \n",
    "plt.legend(loc='upper right') \n",
    "plt.show()"
   ]
  },
  {
   "cell_type": "code",
   "execution_count": 25,
   "metadata": {},
   "outputs": [
    {
     "name": "stdout",
     "output_type": "stream",
     "text": [
      "Difference between sample means: -1.81\n",
      "t statistic: -8.926\n"
     ]
    }
   ],
   "source": [
    "# sample1 => original population data, sample1d => updated population data\n",
    "# t statistic and p value\n",
    "diff1 = sample1.mean() - sample1d.mean()\n",
    "print(\"Difference between sample means: %.2f\" %diff1)\n",
    "size1 = np.array([len(sample1), len(sample1d)])\n",
    "sd1 = np.array([sample1.std(), sample1d.std()])\n",
    "\n",
    "# squared standard deviations are divided by the sample size and summed, then we take the square root of the sum\n",
    "diff_se1 = (sum(sd1**2/size1))**0.5\n",
    "\n",
    "# The difference between means divided by the standard error = T-value\n",
    "print(\"t statistic: %.3f\" %(diff1/diff_se1))"
   ]
  },
  {
   "cell_type": "code",
   "execution_count": 26,
   "metadata": {},
   "outputs": [
    {
     "name": "stdout",
     "output_type": "stream",
     "text": [
      "Ttest_indResult(statistic=8.8816984679750668, pvalue=5.4227516904327974e-16)\n"
     ]
    }
   ],
   "source": [
    "# evaluate t-statistic and p-value using scipy.stats package\n",
    "print(ttest_ind(sample1d, sample1, equal_var=False))"
   ]
  },
  {
   "cell_type": "markdown",
   "metadata": {},
   "source": [
    "### Results:\n",
    "      The t statistic got larger when p = 0.4 and the pvalue dropped in size. If the pvalue is low it means that the difference of the means between the two populations is less likely to be caused by random chance. Thus, it means there is an actual difference between the means. This makes sense that the p-value should continue to drop as the difference of the p characteristic (probability of sucess) between distributions becomes larger in magnitude. (the difference between population characteristics becomes more obvious)"
   ]
  },
  {
   "cell_type": "code",
   "execution_count": 28,
   "metadata": {},
   "outputs": [],
   "source": [
    "# different distribution population and sample variables\n",
    "rayleigh1 = np.random.rayleigh(5, 10000)\n",
    "rayleigh2 = np.random.rayleigh(3, 10000)\n",
    "rayleigh_sample1 = np.random.choice(rayleigh1, 100, replace=True)\n",
    "rayleigh_sample2 = np.random.choice(rayleigh2, 100, replace=True)"
   ]
  },
  {
   "cell_type": "code",
   "execution_count": 31,
   "metadata": {},
   "outputs": [
    {
     "name": "stdout",
     "output_type": "stream",
     "text": [
      "Population 1 mean: 6.22\n",
      "Population 1 standard deviation: 3.27\n",
      "Population 2 mean: 3.76\n",
      "Population 2 standard deviation: 1.96\n"
     ]
    },
    {
     "data": {
      "image/png": "[encoded data removed]",
      "text/plain": [
       "<matplotlib.figure.Figure at 0x9aed8d0>"
      ]
     },
     "metadata": {},
     "output_type": "display_data"
    }
   ],
   "source": [
    "# Calculate the mean and standard deviation of both populations\n",
    "rayleigh1_mean = np.mean(rayleigh1)\n",
    "print(\"Population 1 mean: %.2f\" %rayleigh1_mean)\n",
    "rayleigh1_stdev = np.std(rayleigh1)\n",
    "print(\"Population 1 standard deviation: %.2f\" %rayleigh1_stdev)\n",
    "\n",
    "rayleigh2_mean = np.mean(rayleigh2)\n",
    "print(\"Population 2 mean: %.2f\" %rayleigh2_mean)\n",
    "rayleigh2_stdev = np.std(rayleigh2)\n",
    "print(\"Population 2 standard deviation: %.2f\" %rayleigh2_stdev)\n",
    "\n",
    "#plot histogram\n",
    "plt.hist(rayleigh1, alpha=0.5, label='Rayleigh Population 1') \n",
    "plt.hist(rayleigh2, alpha=0.5, label='Rayleigh Population 2') \n",
    "plt.legend(loc='upper right') \n",
    "plt.show()"
   ]
  },
  {
   "cell_type": "code",
   "execution_count": 30,
   "metadata": {},
   "outputs": [
    {
     "name": "stdout",
     "output_type": "stream",
     "text": [
      "Sample 1 mean: 7.15\n",
      "Sample 1 standard deviation: 3.30\n",
      "Sample 2 mean: 4.13\n",
      "Sample 2 standard deviation: 1.89\n"
     ]
    },
    {
     "data": {
      "image/png": "[encoded data removed]",
      "text/plain": [
       "<matplotlib.figure.Figure at 0x90866a0>"
      ]
     },
     "metadata": {},
     "output_type": "display_data"
    }
   ],
   "source": [
    "# Calculate the mean and standard deviation of both samples\n",
    "rayleigh_sample1_mean = np.mean(rayleigh_sample1)\n",
    "print(\"Sample 1 mean: %.2f\" %rayleigh_sample1_mean)\n",
    "rayleigh_sample1_stdev = np.std(rayleigh_sample1)\n",
    "print(\"Sample 1 standard deviation: %.2f\" %rayleigh_sample1_stdev)\n",
    "\n",
    "rayleigh_sample2_mean = np.mean(rayleigh_sample2)\n",
    "print(\"Sample 2 mean: %.2f\" %rayleigh_sample2_mean)\n",
    "rayleigh_sample2_stdev = np.std(rayleigh_sample2)\n",
    "print(\"Sample 2 standard deviation: %.2f\" %rayleigh_sample2_stdev)\n",
    "\n",
    "#plot histogram\n",
    "plt.hist(rayleigh_sample1, alpha=0.5, label='Rayleigh Sample 1') \n",
    "plt.hist(rayleigh_sample2, alpha=0.5, label='Rayleigh Sample 2') \n",
    "plt.legend(loc='upper right') \n",
    "plt.show()"
   ]
  },
  {
   "cell_type": "markdown",
   "metadata": {},
   "source": [
    "### Results:\n",
    "      It looks like there is a bit more of a difference between the measures of central tendancy on the population versus the samples with the rayleigh distribution. However, as n increases in the sample set i am sure they will begin to converge.  Central limit theorm says that statistics should still work as long as the sample size is large enough no matter what distribution is chosen?\n",
    "\n",
    "## How large is large enough??"
   ]
  },
  {
   "cell_type": "code",
   "execution_count": null,
   "metadata": {},
   "outputs": [],
   "source": []
  }
 ],
 "metadata": {
  "kernelspec": {
   "display_name": "Python 3",
   "language": "python",
   "name": "python3"
  },
  "language_info": {
   "codemirror_mode": {
    "name": "ipython",
    "version": 3
   },
   "file_extension": ".py",
   "mimetype": "text/x-python",
   "name": "python",
   "nbconvert_exporter": "python",
   "pygments_lexer": "ipython3",
   "version": "3.6.1"
  }
 },
 "nbformat": 4,
 "nbformat_minor": 2
}
