{
 "cells": [
  {
   "cell_type": "code",
   "execution_count": 3,
   "metadata": {},
   "outputs": [
    {
     "name": "stdout",
     "output_type": "stream",
     "text": [
      "HTTH = 0.0625\n",
      "HHHH = 0.0625\n",
      "TTHH = 0.0625\n"
     ]
    }
   ],
   "source": [
    "# probability of flipping a balanced coin four times\n",
    "p_HTTH = 0.5 * 0.5 * 0.5 * 0.5\n",
    "p_HHHH = 0.5 * 0.5 * 0.5 * 0.5\n",
    "p_TTHH = 0.5 * 0.5 * 0.5 * 0.5\n",
    "print(\"HTTH = \" + str(p_HTTH))\n",
    "print(\"HHHH = \" +str( p_HHHH))\n",
    "print(\"TTHH = \" + str(p_TTHH))"
   ]
  },
  {
   "cell_type": "code",
   "execution_count": 4,
   "metadata": {},
   "outputs": [
    {
     "name": "stdout",
     "output_type": "stream",
     "text": [
      "0.5333333333333333\n"
     ]
    }
   ],
   "source": [
    "# If a list of  people has 24 women and 21 men, what is the probability of not choosing a man?\n",
    "probability = 24/(24+21)\n",
    "print(probability)"
   ]
  },
  {
   "cell_type": "code",
   "execution_count": 5,
   "metadata": {},
   "outputs": [
    {
     "name": "stdout",
     "output_type": "stream",
     "text": [
      "0.0005\n"
     ]
    }
   ],
   "source": [
    "# Probability that Bernice will travel by plane this year is 10%\n",
    "# Probability of plane crash at any time is 0.005%\n",
    "# What is probability that Bernice will be in a place crash this year?\n",
    "probability_bernice = .1 * .005\n",
    "print(probability_bernice)"
   ]
  },
  {
   "cell_type": "code",
   "execution_count": 6,
   "metadata": {},
   "outputs": [],
   "source": [
    "# Website drill problem\n",
    "# This is a biased sampling of the population. It only samples from users that are very active on the website and are willing to participate in the survey. "
   ]
  },
  {
   "cell_type": "code",
   "execution_count": null,
   "metadata": {},
   "outputs": [],
   "source": []
  }
 ],
 "metadata": {
  "kernelspec": {
   "display_name": "Python 3",
   "language": "python",
   "name": "python3"
  },
  "language_info": {
   "codemirror_mode": {
    "name": "ipython",
    "version": 3
   },
   "file_extension": ".py",
   "mimetype": "text/x-python",
   "name": "python",
   "nbconvert_exporter": "python",
   "pygments_lexer": "ipython3",
   "version": "3.6.1"
  }
 },
 "nbformat": 4,
 "nbformat_minor": 2
}
