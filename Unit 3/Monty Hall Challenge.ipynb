{
 "cells": [
  {
   "cell_type": "markdown",
   "metadata": {},
   "source": [
    "Chance of getting the prize on the first attempt is 1/3\n",
    "Chance of getting the prize after an empty door is opened is 1/2 (this is conditional)\n",
    "This would be Probability = P( attempt 2 | attempt 1), probability of getting the price GIVEN an empty door being opened\n",
    "Probabilty of choosing the right door = 1/3 * 1/2 = 1/ 6\n"
   ]
  },
  {
   "cell_type": "code",
   "execution_count": null,
   "metadata": {},
   "outputs": [],
   "source": []
  }
 ],
 "metadata": {
  "kernelspec": {
   "display_name": "Python 3",
   "language": "python",
   "name": "python3"
  },
  "language_info": {
   "codemirror_mode": {
    "name": "ipython",
    "version": 3
   },
   "file_extension": ".py",
   "mimetype": "text/x-python",
   "name": "python",
   "nbconvert_exporter": "python",
   "pygments_lexer": "ipython3",
   "version": "3.6.1"
  }
 },
 "nbformat": 4,
 "nbformat_minor": 2
}
