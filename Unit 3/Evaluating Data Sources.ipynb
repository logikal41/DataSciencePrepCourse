{
 "cells": [
  {
   "cell_type": "markdown",
   "metadata": {},
   "source": [
    "Amsterdam:\n",
    "\n",
    "  AirBnB is a single source of data and could be biased since some neighborhoods may or may not have many participating home owners. \n",
    "  The data was taken on Christmas Eve which could show much different trends than normal. Family visits for the holidays, etc.\n",
    "  It would be better to get information from hotels, motels, etc. as well as the airBnB operation. \n",
    "  Take the data during a non-holiday period"
   ]
  },
  {
   "cell_type": "markdown",
   "metadata": {},
   "source": [
    "Mental Health Services:\n",
    "\n",
    "There was a major terrorist attack in NYC on September 11, 2001. Many people lost family, friends, and were torn up from the scene of the events. This will lead to a dramatic increase in the use of mental health services. These numbers will not be representative of normal use of services. A better way to rephrase the question would be \"How do patterns of mental health service vary between normal city and one that just underwent a serious traumatic event?\""
   ]
  },
  {
   "cell_type": "markdown",
   "metadata": {},
   "source": [
    "Armenian Pub Survey:\n",
    "\n",
    "This is an online survey which requires people to have access to a computer with internet. Not all pub going Armenians will have access to this survey. It is possible that the survey will be biased towards higher income, job holding, or otherwise citizens. It may miss a significant portion of the population. "
   ]
  },
  {
   "cell_type": "code",
   "execution_count": null,
   "metadata": {},
   "outputs": [],
   "source": []
  }
 ],
 "metadata": {
  "kernelspec": {
   "display_name": "Python 3",
   "language": "python",
   "name": "python3"
  },
  "language_info": {
   "codemirror_mode": {
    "name": "ipython",
    "version": 3
   },
   "file_extension": ".py",
   "mimetype": "text/x-python",
   "name": "python",
   "nbconvert_exporter": "python",
   "pygments_lexer": "ipython3",
   "version": "3.6.1"
  }
 },
 "nbformat": 4,
 "nbformat_minor": 2
}
