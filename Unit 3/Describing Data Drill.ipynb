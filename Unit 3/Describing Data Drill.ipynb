{
 "cells": [
  {
   "cell_type": "code",
   "execution_count": 7,
   "metadata": {},
   "outputs": [],
   "source": [
    "# import all relevent modules\n",
    "import numpy as np\n",
    "import pandas as pd\n",
    "import matplotlib.pyplot as plt\n",
    "import statistics\n",
    "%matplotlib inline"
   ]
  },
  {
   "cell_type": "markdown",
   "metadata": {},
   "source": [
    "## The brady bunch"
   ]
  },
  {
   "cell_type": "code",
   "execution_count": 16,
   "metadata": {},
   "outputs": [
    {
     "name": "stdout",
     "output_type": "stream",
     "text": [
      "Mean of ages: 9.86\n",
      "Median of ages: 10\n",
      "Mode of ages: 8\n",
      "Variance of ages: 6.41\n",
      "Standard deviation of ages: 2.53\n",
      "Standard error of ages: 0.96\n"
     ]
    }
   ],
   "source": [
    "names = [\"Greg\", \"Marcia\", \"Peter\", \"Jan\", \"Bobby\", \"Cindy\", \"Cousin Oliver\"]\n",
    "ages = [14, 12, 11, 10, 8, 6, 8]\n",
    "mean = np.mean(ages)\n",
    "print(\"Mean of ages: %.2f\" % mean)\n",
    "median = np.median(ages)\n",
    "print(\"Median of ages: %i\" % median)\n",
    "mode = statistics.mode(ages)\n",
    "print(\"Mode of ages: %i\" % mode)\n",
    "\n",
    "variance = np.var(ages)\n",
    "print(\"Variance of ages: %.2f\" % variance)\n",
    "stdev = np.std(ages) # df = n since this is the entire population\n",
    "print(\"Standard deviation of ages: %.2f\" % stdev)\n",
    "stder = np.std(ages)/np.sqrt(len(ages))\n",
    "print(\"Standard error of ages: %.2f\"  % stder)"
   ]
  },
  {
   "cell_type": "markdown",
   "metadata": {},
   "source": [
    "If I had to choose one estimate of central tendancy and one estimate of variance to describe the data, I would choose the MEAN and the STANDARD DEVIATION. There are only 7 data points and thus the distribution of the data is relatively unknown although due to the central limit theorm we can assume the data will begin to behave normally when the number of samples is sufficiently high. The mean or average gives us the most information along with the standard deviation with this data set. "
   ]
  },
  {
   "cell_type": "markdown",
   "metadata": {},
   "source": [
    "### Update: Cindy had a birthday"
   ]
  },
  {
   "cell_type": "code",
   "execution_count": 18,
   "metadata": {},
   "outputs": [
    {
     "name": "stdout",
     "output_type": "stream",
     "text": [
      "Mean of ages: 10.00\n",
      "Median of ages: 10\n",
      "Mode of ages: 8\n",
      "Variance of ages: 5.43\n",
      "Standard deviation of ages: 2.33\n",
      "Standard error of ages: 0.88\n"
     ]
    }
   ],
   "source": [
    "ages = [14, 12, 11, 10, 8, 7, 8] # Cindy is now 7 years old\n",
    "# UPDATED ESTIMATES\n",
    "mean = np.mean(ages)\n",
    "print(\"Mean of ages: %.2f\" % mean)\n",
    "median = np.median(ages)\n",
    "print(\"Median of ages: %i\" % median)\n",
    "mode = statistics.mode(ages)\n",
    "print(\"Mode of ages: %i\" % mode)\n",
    "\n",
    "variance = np.var(ages)\n",
    "print(\"Variance of ages: %.2f\" % variance)\n",
    "stdev = np.std(ages) # df = n since this is the entire population\n",
    "print(\"Standard deviation of ages: %.2f\" % stdev)\n",
    "stder = np.std(ages)/np.sqrt(len(ages))\n",
    "print(\"Standard error of ages: %.2f\"  % stder)"
   ]
  },
  {
   "cell_type": "markdown",
   "metadata": {},
   "source": [
    "The mean, variance, standard deviation and standard error of the ages changed. The median and mode did NOT change. "
   ]
  },
  {
   "cell_type": "code",
   "execution_count": 20,
   "metadata": {},
   "outputs": [
    {
     "name": "stdout",
     "output_type": "stream",
     "text": [
      "Mean of ages: 9.00\n",
      "Median of ages: 10\n",
      "Mode of ages: None\n",
      "Variance of ages: 15.43\n",
      "Standard deviation of ages: 3.93\n",
      "Standard error of ages: 1.48\n"
     ]
    }
   ],
   "source": [
    "# Cousin Oliver has been removed from the show and replaced by 1 year old Jessica\n",
    "names = [\"Greg\", \"Marcia\", \"Peter\", \"Jan\", \"Bobby\", \"Cindy\", \"Jessica\"]\n",
    "ages = [14, 12, 11, 10, 8, 7, 1]\n",
    "\n",
    "#UPDATED RESULTS \n",
    "mean = np.mean(ages)\n",
    "print(\"Mean of ages: %.2f\" % mean)\n",
    "median = np.median(ages)\n",
    "print(\"Median of ages: %i\" % median)\n",
    "# mode = statistics.mode(ages)\n",
    "print(\"Mode of ages: None\")\n",
    "\n",
    "variance = np.var(ages)\n",
    "print(\"Variance of ages: %.2f\" % variance)\n",
    "stdev = np.std(ages) # df = n since this is the entire population\n",
    "print(\"Standard deviation of ages: %.2f\" % stdev)\n",
    "stder = np.std(ages)/np.sqrt(len(ages))\n",
    "print(\"Standard error of ages: %.2f\"  % stder)\n"
   ]
  },
  {
   "cell_type": "markdown",
   "metadata": {},
   "source": [
    "There is nolonger a mode. I would still use the mean and standard deviation to describe this dataset. "
   ]
  },
  {
   "cell_type": "markdown",
   "metadata": {},
   "source": [
    "### Fans of the show based off magazine survey\n",
    "\n",
    "This is a difficult question to answer. This requires the analyst to know how many readers each magazine has, how many responded to the survey, and the age of the readers. There will also be some bias amonst surveys since readers of SciPhi Phanatic are less likely to be fans of the Brady Bunch show (as shown by the 5%). "
   ]
  },
  {
   "cell_type": "code",
   "execution_count": null,
   "metadata": {},
   "outputs": [],
   "source": []
  }
 ],
 "metadata": {
  "kernelspec": {
   "display_name": "Python 3",
   "language": "python",
   "name": "python3"
  },
  "language_info": {
   "codemirror_mode": {
    "name": "ipython",
    "version": 3
   },
   "file_extension": ".py",
   "mimetype": "text/x-python",
   "name": "python",
   "nbconvert_exporter": "python",
   "pygments_lexer": "ipython3",
   "version": "3.6.1"
  }
 },
 "nbformat": 4,
 "nbformat_minor": 2
}
